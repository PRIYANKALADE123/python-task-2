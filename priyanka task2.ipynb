{
 "cells": [
  {
   "cell_type": "markdown",
   "id": "0a9aec30-8dbb-4110-a100-f50fa84dbdd3",
   "metadata": {},
   "source": [
    "# list methods in Python\n",
    "### Add an element to the list:\r",
    "### append() Method\r\n",
    "\r\n",
    "\n",
    "\r\n"
   ]
  },
  {
   "cell_type": "code",
   "execution_count": 9,
   "id": "0b673041-bccb-4dc4-b2e5-e64ae7e4bd45",
   "metadata": {},
   "outputs": [
    {
     "data": {
      "text/plain": [
       "['apple', 4, 8, 234, 'true']"
      ]
     },
     "execution_count": 9,
     "metadata": {},
     "output_type": "execute_result"
    }
   ],
   "source": [
    "l1=['apple',4,8,234,'true']\n",
    "l1"
   ]
  },
  {
   "cell_type": "code",
   "execution_count": 10,
   "id": "73d5ccb9-8798-4296-9230-066e6d1ed2fa",
   "metadata": {},
   "outputs": [
    {
     "name": "stdout",
     "output_type": "stream",
     "text": [
      "['apple', 4, 8, 234, 'true', 'orange']\n"
     ]
    }
   ],
   "source": [
    "l1=['apple',4,8,234,'true']\n",
    "l1.append(\"orange\")\n",
    "print(l1)\n"
   ]
  },
  {
   "cell_type": "markdown",
   "id": "09968d6d-8e70-475f-80c6-b923245e2465",
   "metadata": {},
   "source": [
    "### Python List clear() Method\r",
    "### Remove all elements from the list:\r\n",
    "\r\n",
    "\n",
    "\r\n"
   ]
  },
  {
   "cell_type": "code",
   "execution_count": 11,
   "id": "9e68b744-83f1-477b-b367-28109ec95255",
   "metadata": {},
   "outputs": [
    {
     "name": "stdout",
     "output_type": "stream",
     "text": [
      "[]\n"
     ]
    }
   ],
   "source": [
    "l1=['apple',4,8,234,'true']\n",
    "l1.clear()\n",
    "print(l1)\n"
   ]
  },
  {
   "cell_type": "markdown",
   "id": "f9d6bc9a-f33f-478d-a563-2adb55f98bbd",
   "metadata": {},
   "source": [
    "### Python List copy() Method\n",
    "### Copy the list:\r\n",
    "\r\n"
   ]
  },
  {
   "cell_type": "code",
   "execution_count": 12,
   "id": "4c3c546f-025b-45ff-bebf-c98b903befcf",
   "metadata": {},
   "outputs": [
    {
     "name": "stdout",
     "output_type": "stream",
     "text": [
      "['apple', 4, 8, 234, 'true']\n"
     ]
    }
   ],
   "source": [
    "l1=['apple',4,8,234,'true']\n",
    "x = l1.copy()\n",
    "print(x)\n",
    "\n"
   ]
  },
  {
   "cell_type": "markdown",
   "id": "f8125595-7a37-424d-b73d-10ccb9930287",
   "metadata": {},
   "source": [
    "### Python List count() Method\r\n",
    "\r\n"
   ]
  },
  {
   "cell_type": "code",
   "execution_count": 13,
   "id": "355f6ec3-5653-4e72-8202-0290d48dc547",
   "metadata": {},
   "outputs": [
    {
     "name": "stdout",
     "output_type": "stream",
     "text": [
      "2\n"
     ]
    }
   ],
   "source": [
    "points = [1, 4, 2, 9, 7, 8, 9, 3, 1]\n",
    "x = points.count(9)\n",
    "print (x)\n"
   ]
  },
  {
   "cell_type": "markdown",
   "id": "4ed0f754-81c0-478b-8def-fe42a3b0a8ab",
   "metadata": {},
   "source": [
    "### Python List extend() Method\r\n",
    "\r\n"
   ]
  },
  {
   "cell_type": "code",
   "execution_count": 14,
   "id": "afd5b6e5-2483-4804-b7d1-0e2700ab4edc",
   "metadata": {},
   "outputs": [
    {
     "name": "stdout",
     "output_type": "stream",
     "text": [
      "['apple', 'banana', 'cherry', 'orange', 1, 4, 5, 9, 10, 6]\n"
     ]
    }
   ],
   "source": [
    "fruits = ['apple', 'banana', 'cherry','orange']\n",
    "points = (1, 4, 5, 9, 10, 6)\n",
    "fruits.extend(points)\n",
    "print(fruits)\n"
   ]
  },
  {
   "cell_type": "markdown",
   "id": "fb6e37ab-b946-43c1-b90d-35e92f44d7ca",
   "metadata": {},
   "source": [
    "### Python List index() Method\n",
    "\n"
   ]
  },
  {
   "cell_type": "code",
   "execution_count": 17,
   "id": "7a61fb78-1692-4d86-a19c-9bedd7ae43e3",
   "metadata": {},
   "outputs": [
    {
     "name": "stdout",
     "output_type": "stream",
     "text": [
      "6\n"
     ]
    }
   ],
   "source": [
    "l1 = [4, 55, 64, 32, 16, 32,'apple','cake']\n",
    "x = l1.index('apple')\n",
    "print(x)"
   ]
  },
  {
   "cell_type": "markdown",
   "id": "188a5be2-5b56-4244-b985-be403a034796",
   "metadata": {},
   "source": [
    "### Python List insert() Method\n",
    "\n"
   ]
  },
  {
   "cell_type": "code",
   "execution_count": 27,
   "id": "b00605f9-efa7-414a-afd4-f6bb6a0f25e0",
   "metadata": {},
   "outputs": [
    {
     "name": "stdout",
     "output_type": "stream",
     "text": [
      "[4, 55, 'orange', 64, 32, 16, 32, 'apple', 'cake']\n"
     ]
    }
   ],
   "source": [
    "fruits = [4, 55, 64, 32, 16, 32,'apple','cake']\n",
    "fruits.insert(2, \"orange\")\n",
    "print(fruits)"
   ]
  },
  {
   "cell_type": "code",
   "execution_count": null,
   "id": "c64af079-4594-4605-9608-134d9d95812f",
   "metadata": {},
   "outputs": [],
   "source": []
  },
  {
   "cell_type": "markdown",
   "id": "9bf83942-3442-41f9-b58c-5e61b4542841",
   "metadata": {},
   "source": [
    "###  Python List pop() Method\n",
    "\n"
   ]
  },
  {
   "cell_type": "code",
   "execution_count": 29,
   "id": "689a9015-7b52-4153-93dc-c1b79aff7d5e",
   "metadata": {},
   "outputs": [
    {
     "name": "stdout",
     "output_type": "stream",
     "text": [
      "32\n"
     ]
    }
   ],
   "source": [
    "fruits = [4, 55, 64, 32, 16, 32,'apple','cake']\n",
    "x = fruits.pop(5)\n",
    "print(x)\n"
   ]
  },
  {
   "cell_type": "markdown",
   "id": "090bc949-9d7a-4bc3-9944-efb1780f072e",
   "metadata": {},
   "source": [
    "### Python List remove() Method\n",
    "\n"
   ]
  },
  {
   "cell_type": "code",
   "execution_count": 31,
   "id": "98380668-4a32-42aa-b013-450074a51744",
   "metadata": {},
   "outputs": [
    {
     "name": "stdout",
     "output_type": "stream",
     "text": [
      "[4, 55, 64, 32, 16, 32, 'cake']\n"
     ]
    }
   ],
   "source": [
    "fruits = [4, 55, 64, 32, 16, 32,'apple','cake']\n",
    "fruits.remove(\"apple\")\n",
    "print(fruits)\n"
   ]
  },
  {
   "cell_type": "markdown",
   "id": "8cfd5773-3d56-4ff3-a288-1db01a194a74",
   "metadata": {},
   "source": [
    "### Python List reverse() Method\n",
    "\n"
   ]
  },
  {
   "cell_type": "code",
   "execution_count": 32,
   "id": "875f231d-1822-4aac-b42d-c001efa5cf91",
   "metadata": {},
   "outputs": [
    {
     "name": "stdout",
     "output_type": "stream",
     "text": [
      "['cake', 'apple', 32, 16, 32, 64, 55, 4]\n"
     ]
    }
   ],
   "source": [
    "fruits = [4, 55, 64, 32, 16, 32,'apple','cake']\n",
    "fruits.reverse()\n",
    "print(fruits)\n"
   ]
  },
  {
   "cell_type": "markdown",
   "id": "219124ed-eb9d-4661-90aa-bc6e0b0d319e",
   "metadata": {},
   "source": [
    "### Python List sort() Method\r\n",
    "\r\n"
   ]
  },
  {
   "cell_type": "code",
   "execution_count": 34,
   "id": "be51f3ea-d723-4a27-8780-2e7eaedb8549",
   "metadata": {},
   "outputs": [
    {
     "name": "stdout",
     "output_type": "stream",
     "text": [
      "['apple', 'banana', 'cake', 'grapes']\n"
     ]
    }
   ],
   "source": [
    "fruits = ['banana','apple','cake','grapes']\n",
    "fruits.sort()\n",
    "print(fruits)\n"
   ]
  },
  {
   "cell_type": "markdown",
   "id": "c8e8ab85-4ee6-4b6f-8308-97a1f9202bad",
   "metadata": {},
   "source": [
    "### List Length\n"
   ]
  },
  {
   "cell_type": "code",
   "execution_count": 35,
   "id": "c95f5357-fadc-4363-8bf3-b36e653ca460",
   "metadata": {},
   "outputs": [
    {
     "name": "stdout",
     "output_type": "stream",
     "text": [
      "8\n"
     ]
    }
   ],
   "source": [
    "fruits = [4, 55, 64, 32, 16, 32,'apple','cake']\n",
    "print(len(fruits))\n"
   ]
  },
  {
   "cell_type": "markdown",
   "id": "c5cf5d71-da4b-4f5a-a918-2620d925aaa4",
   "metadata": {},
   "source": [
    "### Negative Indexing\n"
   ]
  },
  {
   "cell_type": "code",
   "execution_count": 44,
   "id": "ad3d4d36-683b-4607-b870-afa81337d914",
   "metadata": {},
   "outputs": [
    {
     "name": "stdout",
     "output_type": "stream",
     "text": [
      "[64, 32]\n"
     ]
    }
   ],
   "source": [
    "fruits = [4, 55, 64, 32, 16, 32,'apple','cake']\n",
    "print(fruits[2:-4])\n"
   ]
  },
  {
   "cell_type": "code",
   "execution_count": 46,
   "id": "c77eeda4-4d3f-4bba-a84e-df14c91d0e29",
   "metadata": {},
   "outputs": [
    {
     "name": "stdout",
     "output_type": "stream",
     "text": [
      "['orange', 'kiwi', 'melon']\n"
     ]
    }
   ],
   "source": [
    "fruits = [\"apple\", \"banana\", \"cherry\", \"orange\", \"kiwi\", \"melon\", \"mango\"]\n",
    "print(fruits[-4:-1])\n"
   ]
  },
  {
   "cell_type": "markdown",
   "id": "362a2779-4350-406e-8f56-1b4633355e84",
   "metadata": {},
   "source": [
    "### Change a Range of Item Values\n"
   ]
  },
  {
   "cell_type": "code",
   "execution_count": 47,
   "id": "9861259e-6b8e-47e5-9a8e-f380cecc3c2b",
   "metadata": {},
   "outputs": [
    {
     "name": "stdout",
     "output_type": "stream",
     "text": [
      "['apple', 'blackcurrant', 'watermelon', 'orange', 'kiwi', 'melon', 'mango']\n"
     ]
    }
   ],
   "source": [
    "fruits = [\"apple\", \"banana\", \"cherry\", \"orange\", \"kiwi\", \"melon\", \"mango\"]\n",
    "fruits[1:3] = [\"blackcurrant\", \"watermelon\"]\n",
    "print(fruits)\n"
   ]
  },
  {
   "cell_type": "markdown",
   "id": "ee29156d-aa8b-495e-99e1-873c9635aa63",
   "metadata": {},
   "source": [
    "### Join Two Lists\n"
   ]
  },
  {
   "cell_type": "code",
   "execution_count": 49,
   "id": "5782c622-edf6-4ba7-b03e-b1e9c7a3e12b",
   "metadata": {},
   "outputs": [
    {
     "name": "stdout",
     "output_type": "stream",
     "text": [
      "['apple', 'banana', 'cherry', 'orange', 'kiwi', 'melon', 'mango', 1, 2, 3]\n"
     ]
    }
   ],
   "source": [
    "fruits = [\"apple\", \"banana\", \"cherry\", \"orange\", \"kiwi\", \"melon\", \"mango\"]\n",
    "list2 = [1, 2, 3]\n",
    "list3 = fruits + list2\n",
    "print(list3)\n"
   ]
  },
  {
   "cell_type": "code",
   "execution_count": null,
   "id": "0b6dfb7b-505f-4d20-9ef8-9bb98fd7cba7",
   "metadata": {},
   "outputs": [],
   "source": []
  }
 ],
 "metadata": {
  "kernelspec": {
   "display_name": "Python 3 (ipykernel)",
   "language": "python",
   "name": "python3"
  },
  "language_info": {
   "codemirror_mode": {
    "name": "ipython",
    "version": 3
   },
   "file_extension": ".py",
   "mimetype": "text/x-python",
   "name": "python",
   "nbconvert_exporter": "python",
   "pygments_lexer": "ipython3",
   "version": "3.12.4"
  }
 },
 "nbformat": 4,
 "nbformat_minor": 5
}
